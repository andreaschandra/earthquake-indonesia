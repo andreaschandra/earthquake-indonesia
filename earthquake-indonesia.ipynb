{
 "cells": [
  {
   "cell_type": "code",
   "execution_count": 33,
   "metadata": {},
   "outputs": [],
   "source": [
    "import urllib3\n",
    "import json\n",
    "from datetime import datetime, timedelta\n",
    "from tqdm import tqdm\n",
    "\n",
    "import pandas as pd\n",
    "import numpy as np\n",
    "import matplotlib.pyplot as plt"
   ]
  },
  {
   "cell_type": "code",
   "execution_count": 2,
   "metadata": {},
   "outputs": [],
   "source": [
    "http = urllib3.PoolManager()"
   ]
  },
  {
   "cell_type": "code",
   "execution_count": 34,
   "metadata": {},
   "outputs": [
    {
     "name": "stderr",
     "output_type": "stream",
     "text": [
      "100%|██████████| 155/155 [00:44<00:00,  3.51it/s]\n"
     ]
    }
   ],
   "source": [
    "start_date = datetime.today()\n",
    "end_date = start_date - timedelta(days = 10)\n",
    "\n",
    "data_byte_list = []\n",
    "for i in tqdm(range(155)):\n",
    "    tgl_max = start_date.strftime('%d-%m-%Y')\n",
    "    tgl_min = end_date.strftime('%d-%m-%Y')\n",
    "    \n",
    "    r = http.request('GET', 'http://dataonline.bmkg.go.id/data_gempa_bumi/data?tanggal-min='+ tgl_min + '&tanggal-max='+ tgl_max + '&lintang-min=-11&lintang-max=6&bujur-min=94&bujur-max=142&magnitude-min=1.00&magnitude-max=9.50&depth-min=1.00&depth-max=1000.00&_=1562744342018')\n",
    "    data_byte = r.data\n",
    "    data_byte_list.append(data_byte)\n",
    "    \n",
    "    start_date = end_date - timedelta(days = 1)\n",
    "    end_date = start_date - timedelta(days = 11)"
   ]
  },
  {
   "cell_type": "code",
   "execution_count": 35,
   "metadata": {},
   "outputs": [
    {
     "data": {
      "text/plain": [
       "155"
      ]
     },
     "execution_count": 35,
     "metadata": {},
     "output_type": "execute_result"
    }
   ],
   "source": [
    "len(data_byte_list)"
   ]
  },
  {
   "cell_type": "code",
   "execution_count": 36,
   "metadata": {},
   "outputs": [],
   "source": [
    "data_list = []\n",
    "for data in data_byte_list:\n",
    "    data_dict = json.loads(data.decode(\"utf-8\"))\n",
    "    data_list.extend(data_dict['data'])"
   ]
  },
  {
   "cell_type": "code",
   "execution_count": 37,
   "metadata": {},
   "outputs": [
    {
     "data": {
      "text/plain": [
       "36075"
      ]
     },
     "execution_count": 37,
     "metadata": {},
     "output_type": "execute_result"
    }
   ],
   "source": [
    "len(data_list)"
   ]
  },
  {
   "cell_type": "code",
   "execution_count": 46,
   "metadata": {},
   "outputs": [
    {
     "data": {
      "text/plain": [
       "['2019-06-30 22:49:20', '-2.55', '138.48936', '10.0', '3.71']"
      ]
     },
     "execution_count": 46,
     "metadata": {},
     "output_type": "execute_result"
    }
   ],
   "source": [
    "data_list[0]"
   ]
  },
  {
   "cell_type": "code",
   "execution_count": 38,
   "metadata": {},
   "outputs": [],
   "source": [
    "cols = ['tanggal', 'lintang', 'bujur', 'kedalaman (KM)', 'magnitudo (SR)']"
   ]
  },
  {
   "cell_type": "code",
   "execution_count": 47,
   "metadata": {},
   "outputs": [],
   "source": [
    "d_earthquake = pd.DataFrame(data = data_list, columns=cols)"
   ]
  },
  {
   "cell_type": "code",
   "execution_count": 50,
   "metadata": {},
   "outputs": [
    {
     "data": {
      "text/plain": [
       "(36075, 5)"
      ]
     },
     "execution_count": 50,
     "metadata": {},
     "output_type": "execute_result"
    }
   ],
   "source": [
    "d_earthquake.shape"
   ]
  },
  {
   "cell_type": "code",
   "execution_count": 53,
   "metadata": {},
   "outputs": [],
   "source": [
    "d_earthquake.to_csv('earthquake-id-5years.csv')"
   ]
  },
  {
   "cell_type": "code",
   "execution_count": null,
   "metadata": {},
   "outputs": [],
   "source": []
  }
 ],
 "metadata": {
  "kernelspec": {
   "display_name": "Python [default]",
   "language": "python",
   "name": "python3"
  },
  "language_info": {
   "codemirror_mode": {
    "name": "ipython",
    "version": 3
   },
   "file_extension": ".py",
   "mimetype": "text/x-python",
   "name": "python",
   "nbconvert_exporter": "python",
   "pygments_lexer": "ipython3",
   "version": "3.6.8"
  }
 },
 "nbformat": 4,
 "nbformat_minor": 2
}
